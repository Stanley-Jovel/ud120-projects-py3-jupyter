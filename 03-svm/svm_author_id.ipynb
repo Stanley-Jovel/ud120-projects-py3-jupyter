{
 "cells": [
  {
   "cell_type": "markdown",
   "metadata": {},
   "source": [
    "# This is the code to accompany the Lesson 2 (SVM) mini-project\n",
    "\n",
    "### Use a SVM to identify emails from the Enron corpus by their authors\n",
    "\n",
    "authors and labels:\n",
    "- Sara has label `0`\n",
    "- Chris has label `1`"
   ]
  },
  {
   "cell_type": "code",
   "execution_count": 35,
   "metadata": {},
   "outputs": [],
   "source": [
    "import sys\n",
    "from time import time\n",
    "sys.path.append('../utils/')\n",
    "\n",
    "from email_preprocess import preprocess"
   ]
  },
  {
   "cell_type": "markdown",
   "metadata": {},
   "source": [
    "- `features_train` and `features_test` are the features for the training and testing datasets, respectively\n",
    "- `labels_train` and `labels_test` are the corresponding item labels"
   ]
  },
  {
   "cell_type": "code",
   "execution_count": 36,
   "metadata": {},
   "outputs": [
    {
     "name": "stdout",
     "output_type": "stream",
     "text": [
      "no. of Chris training emails: 7936\n",
      "no. of Sara training emails: 7884\n"
     ]
    }
   ],
   "source": [
    "features_train, features_test, labels_train, labels_test = preprocess()"
   ]
  },
  {
   "cell_type": "markdown",
   "metadata": {},
   "source": [
    "## ↓↓↓ Your Code Goes Here ↓↓↓"
   ]
  },
  {
   "cell_type": "code",
   "execution_count": 37,
   "metadata": {},
   "outputs": [
    {
     "name": "stdout",
     "output_type": "stream",
     "text": [
      "Training time: 173.10659050941467s\n",
      "Prediction time: 25.20480704307556s\n",
      "Accuracy: 0.9960182025028441\n"
     ]
    }
   ],
   "source": [
    "from sklearn.svm import SVC\n",
    "from sklearn.metrics import accuracy_score\n",
    "\n",
    "clf = SVC(kernel=\"rbf\", C=10000)\n",
    "\n",
    "# reduced_features_train = features_train[:int(len(features_train)/100)]\n",
    "# reduced_labels_train = labels_train[:int(len(labels_train)/100)]\n",
    "\n",
    "t0 = time()\n",
    "clf.fit(features_train, labels_train)\n",
    "# clf.fit(reduced_features_train, reduced_labels_train)\n",
    "print(\"Training time: {}s\".format(time() - t0))\n",
    "\n",
    "t1 = time()\n",
    "pred = clf.predict(features_test)\n",
    "print(\"Prediction time: {}s\".format(time() - t1))\n",
    "\n",
    "print(\"Accuracy: {}\".format(accuracy_score(labels_test, pred)))"
   ]
  },
  {
   "cell_type": "code",
   "execution_count": 38,
   "metadata": {},
   "outputs": [
    {
     "name": "stdout",
     "output_type": "stream",
     "text": [
      "10th: 1\n",
      "26th: 0\n",
      "50th: 1\n"
     ]
    }
   ],
   "source": [
    "print(\"10th: {}\".format(pred[10]))\n",
    "print(\"26th: {}\".format(pred[26]))\n",
    "print(\"50th: {}\".format(pred[50]))"
   ]
  },
  {
   "cell_type": "code",
   "execution_count": 44,
   "metadata": {},
   "outputs": [
    {
     "data": {
      "text/plain": [
       "866"
      ]
     },
     "execution_count": 44,
     "metadata": {},
     "output_type": "execute_result"
    }
   ],
   "source": [
    "len([label for label in pred if label == 1])\n",
    "\n",
    "# Accuracy: 0.984072810011\n",
    "# Accuracy w/ subset: 0.884527872582\n",
    "# Accuracy w/ rbf kernel: 0.616040955631\n",
    "# Accuracy w/ rbf kernel & C=10 or 100: 0.616040955631\n",
    "# Accuracy w/ rbf kernel & C=1000: 0.821387940842\n",
    "# Accuracy w/ rbf kernel & C=10000: 0.892491467577\n",
    "# Accuracy (full) rbf kernel & C=10000: 0.990898748578\n",
    "# Get number of predicted emails written by Chris.  Ans: 877\n"
   ]
  }
 ],
 "metadata": {
  "kernelspec": {
   "display_name": "Python 3",
   "language": "python",
   "name": "python3"
  },
  "language_info": {
   "codemirror_mode": {
    "name": "ipython",
    "version": 3
   },
   "file_extension": ".py",
   "mimetype": "text/x-python",
   "name": "python",
   "nbconvert_exporter": "python",
   "pygments_lexer": "ipython3",
   "version": "3.8.12"
  }
 },
 "nbformat": 4,
 "nbformat_minor": 4
}
