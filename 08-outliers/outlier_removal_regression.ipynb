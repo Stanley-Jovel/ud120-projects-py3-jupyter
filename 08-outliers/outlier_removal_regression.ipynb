{
 "cells": [
  {
   "cell_type": "markdown",
   "metadata": {},
   "source": [
    "# Starter code for the Outliers Mini-Project"
   ]
  },
  {
   "cell_type": "code",
   "execution_count": 42,
   "metadata": {},
   "outputs": [],
   "source": [
    "import random\n",
    "import pickle\n",
    "\n",
    "import numpy as np\n",
    "import matplotlib.pyplot as plt"
   ]
  },
  {
   "cell_type": "markdown",
   "metadata": {},
   "source": [
    "## Load up some practice data with outliers in it"
   ]
  },
  {
   "cell_type": "code",
   "execution_count": 43,
   "metadata": {},
   "outputs": [],
   "source": [
    "with open('practice_outliers_ages.pkl', 'rb') as f:\n",
    "    ages = pickle.load(f)\n",
    "    \n",
    "with open('practice_outliers_net_worths.pkl', 'rb') as f:\n",
    "    net_worths = pickle.load(f)"
   ]
  },
  {
   "cell_type": "markdown",
   "metadata": {},
   "source": [
    "- ages and net_worths need to be reshaped into 2D numpy arrays\n",
    "- second argument of reshape command is a tuple of integers: `(n_rows, n_columns)`\n",
    "- by convention, `n_rows` is the number of data points\n",
    "- and `n_columns` is the number of features"
   ]
  },
  {
   "cell_type": "code",
   "execution_count": 44,
   "metadata": {},
   "outputs": [],
   "source": [
    "from sklearn.model_selection import train_test_split\n",
    "\n",
    "ages = np.reshape(np.array(ages), (len(ages), 1))\n",
    "net_worths = np.reshape(np.array(net_worths), (len(net_worths), 1))\n",
    "\n",
    "ages_train, ages_test, net_worths_train, net_worths_test = train_test_split(ages, net_worths, test_size=0.1, random_state=42)"
   ]
  },
  {
   "cell_type": "markdown",
   "metadata": {},
   "source": [
    "## ↓↓↓ Your Code Goes Here ↓↓↓"
   ]
  },
  {
   "cell_type": "markdown",
   "metadata": {},
   "source": [
    "Fill in a regression here!  Name the regression object `reg` so that the plotting code below works, and you can see what your regression looks like"
   ]
  },
  {
   "cell_type": "code",
   "execution_count": 45,
   "metadata": {},
   "outputs": [
    {
     "name": "stdout",
     "output_type": "stream",
     "text": [
      "Slope: [[5.07793064]]\n",
      "Score: 0.8782624703664675\n"
     ]
    }
   ],
   "source": [
    "from sklearn.linear_model import LinearRegression\n",
    "\n",
    "reg = LinearRegression()\n",
    "reg.fit(ages_train, net_worths_train)\n",
    "print(\"Slope: {}\".format(reg.coef_))\n",
    "print(\"Score: {}\".format(reg.score(ages_test, net_worths_test)))"
   ]
  },
  {
   "cell_type": "code",
   "execution_count": 46,
   "metadata": {},
   "outputs": [
    {
     "data": {
      "image/png": "[encoded data removed]",
      "text/plain": [
       "<Figure size 432x288 with 1 Axes>"
      ]
     },
     "metadata": {
      "needs_background": "light"
     },
     "output_type": "display_data"
    }
   ],
   "source": [
    "try:\n",
    "    plt.plot(ages, reg.predict(ages), color=\"blue\")\n",
    "except NameError:\n",
    "    pass\n",
    "plt.scatter(ages, net_worths)\n",
    "plt.show()"
   ]
  },
  {
   "cell_type": "markdown",
   "metadata": {},
   "source": [
    "## Identify and remove the most outlier-y points"
   ]
  },
  {
   "cell_type": "code",
   "execution_count": 47,
   "metadata": {},
   "outputs": [],
   "source": [
    "def outlier_cleaner(predictions, ages, net_worths):\n",
    "    \"\"\"Clean away the 10% of points that have the largest\n",
    "    residual errors (difference between the prediction\n",
    "    and the actual net worth).\n",
    "\n",
    "    Return a list of tuples named cleaned_data where\n",
    "    each tuple is of the form (age, net_worth, error).\n",
    "    \"\"\"\n",
    "\n",
    "    cleaned_data = []\n",
    "\n",
    "    #=== Your Code Goes Here ===#\n",
    "    def createTuplesWithError(index_prediction):\n",
    "        (index, prediction) = index_prediction\n",
    "        error = prediction - net_worths[index]\n",
    "        return (ages[index][0], net_worths[index][0], error[0])\n",
    "\n",
    "    tuples = list(map(createTuplesWithError, enumerate(predictions)))\n",
    "    tuples = sorted(tuples, key=lambda tuple: tuple[2])\n",
    "\n",
    "    ninety_percent = int(len(predictions)*0.9)  \n",
    "    cleaned_data = tuples[0:ninety_percent]\n",
    "    print(\"➡ cleaned_data :\", cleaned_data)\n",
    "\n",
    "    return cleaned_data"
   ]
  },
  {
   "cell_type": "code",
   "execution_count": 48,
   "metadata": {},
   "outputs": [
    {
     "name": "stdout",
     "output_type": "stream",
     "text": [
      "➡ cleaned_data : [(63, 424.51073132931936, -79.39107924694724), (61, 412.83425631014785, -77.87046551465625), (53, 368.29556369017877, -73.95521804220931), (57, 385.5629753784311, -70.9109071567006), (65, 424.5580423540415, -69.28252898478888), (55, 370.8748005714165, -66.3785936365665), (58, 378.75051644788397, -59.02051758271324), (46, 317.0578808948303, -58.26304975094263), (49, 326.86999044991904, -52.841367375710604), (52, 339.7693315999082, -50.50691659537898), (48, 318.62560238232396, -49.674909951555776), (62, 389.24094136476344, -49.199219925831585), (58, 366.6772719000951, -46.947273034924365), (34, 243.79287311628013, -45.93320969367559), (60, 374.28347921780096, -44.39761906574961), (65, 396.6665152430942, -41.39100187384156), (30, 217.96059712816052, -40.41265627931699), (49, 313.12236579136925, -39.09374271716081), (64, 389.1123455094963, -38.914762783683955), (37, 250.76090254244718, -37.66744718952185), (47, 300.0349466519055, -36.16218486457757), (38, 253.93805008750448, -35.76666409113889), (37, 247.70089824206377, -34.60744288913844), (32, 221.1424445243783, -33.43864238865427), (53, 326.56693250553326, -32.2265868575638), (43, 275.3250221931937, -31.76398297962683), (52, 320.4844739902693, -31.22205898574009), (58, 350.4872262016239, -30.757227336453184), (53, 325.0657524829757, -30.725406835006254), (51, 314.0672608610164, -29.882776499927445), (57, 344.21586775541203, -29.56379953368156), (64, 378.84578142088196, -28.648198695069595), (49, 302.53682046672367, -28.50819739251523), (44, 274.7300555052413, -26.091085648234156), (32, 212.95377076201385, -25.249968626289814), (37, 237.7316793878959, -24.638224034970563), (47, 287.91612500413447, -24.04336321680654), (57, 338.08951848957577, -23.437450267845293), (34, 219.7327205009527, -21.873057078348154), (21, 151.32065795784047, -19.474092899959288), (32, 207.14225143023492, -19.43844929451089), (35, 220.96845179419734, -18.03085772815251), (59, 342.1862790220314, -17.37834951342029), (23, 159.09869458305818, -17.09626823829646), (41, 250.26985299068266, -16.864675063996287), (45, 270.00424941518054, -16.287348914733144), (43, 259.43540492859483, -15.874365715027949), (32, 201.83521553071006, -14.131413394986026), (27, 175.37526862807127, -13.061119709548535), (39, 234.36051228130097, -11.11119564149513), (22, 147.76534866226712, -10.840852960945682), (51, 294.8258675183866, -10.64138315729764), (24, 157.51396036691344, -10.433603378711467), (21, 142.1012008717193, -10.25463581383812), (30, 186.05979756839332, -8.511856719549797), (30, 185.1870343522352, -7.639093503391678), (33, 200.22792608821422, -7.4461933090499315), (45, 259.1233005198794, -5.406400019432027), (21, 136.08924543132068, -4.242680373439498), (22, 140.9273656237994, -4.00286992247797), (38, 221.33012794213624, -3.1587419457706574), (45, 256.83312700057957, -3.1162265001321714), (29, 173.54835439167368, -1.0783441862704422), (30, 177.46485912830926, 0.08308172053426688), (32, 187.0976049078975, 0.6061972278265273), (32, 186.46155999388083, 1.2422421418432066), (49, 271.75164334973937, 2.276979724469072), (21, 128.4847139765763, 3.361851081304877), (24, 140.78722458080426, 6.293132407397707), (24, 139.40479592465923, 7.6755610635427445), (48, 260.8065975224045, 8.144094908363684), (30, 167.24337759331152, 10.304563255532003), (27, 151.96564953554724, 10.34849938297549), (25, 133.88384977349668, 18.274437858145546), (36, 189.73919689274533, 18.27632781673975), (50, 260.1050979182051, 19.00145579944359), (24, 126.98012845155395, 20.100228536648018), (27, 140.25503627573087, 22.05911264279186), (31, 153.99862170798215, 28.627249784301625), (29, 142.98439510684403, 29.485615098559208), (20, 96.75392597329417, 30.01470844114675)]\n"
     ]
    }
   ],
   "source": [
    "cleaned_data = []\n",
    "\n",
    "try:\n",
    "    predictions = reg.predict(ages_train)\n",
    "    cleaned_data = outlier_cleaner(predictions, ages_train, net_worths_train)\n",
    "except NameError:\n",
    "    print(\"Your regression object doesn't exist, or isn't name reg\")\n",
    "    print(\"Can't make predictions to use in identifying outliers\")"
   ]
  },
  {
   "cell_type": "markdown",
   "metadata": {},
   "source": [
    "**Only run this code if `cleaned_data` is returning data**"
   ]
  },
  {
   "cell_type": "code",
   "execution_count": 49,
   "metadata": {},
   "outputs": [
    {
     "name": "stdout",
     "output_type": "stream",
     "text": [
      "➡ new slope : [[6.36859481]]\n",
      "➡ New Score : 0.9831894553955322\n"
     ]
    },
    {
     "data": {
      "image/png": "[encoded data removed]",
      "text/plain": [
       "<Figure size 432x288 with 1 Axes>"
      ]
     },
     "metadata": {
      "needs_background": "light"
     },
     "output_type": "display_data"
    }
   ],
   "source": [
    "if cleaned_data:\n",
    "    unzipped = list(zip(*cleaned_data))\n",
    "    ages, net_worths, errors = unzipped\n",
    "    ages = np.reshape(np.array(ages), (len(ages), 1))\n",
    "    net_worths = np.reshape(np.array(net_worths), (len(net_worths), 1))\n",
    "\n",
    "    # Refit your cleaned data!\n",
    "\n",
    "    try:\n",
    "        reg.fit(ages, net_worths)\n",
    "\n",
    "        print(\"➡ new slope :\", reg.coef_)\n",
    "        print(\"➡ New Score :\", reg.score(ages_test, net_worths_test))\n",
    "\n",
    "        plt.plot(ages, reg.predict(ages), color=\"blue\")\n",
    "    except NameError:\n",
    "        print(\"you don't seem to have regression imported/created,\")\n",
    "        print(\"   or else your regression object isn't named reg\")\n",
    "        print(\"   either way, only draw the scatter plot of the cleaned data\")\n",
    "\n",
    "    plt.scatter(ages, net_worths)\n",
    "    plt.xlabel(\"ages\")\n",
    "    plt.ylabel(\"net worths\")\n",
    "    plt.show()\n",
    "else:\n",
    "    print(\"outlier_cleaner() is returning an empty list, no refitting to be done\")"
   ]
  },
  {
   "cell_type": "markdown",
   "metadata": {},
   "source": [
    "## Enron Outliers"
   ]
  },
  {
   "cell_type": "code",
   "execution_count": 50,
   "metadata": {},
   "outputs": [],
   "source": [
    "import sys\n",
    "import pickle\n",
    "import matplotlib.pyplot\n",
    "\n",
    "sys.path.append(\"../utils/\")\n",
    "\n",
    "from feature_format import feature_format, target_feature_split"
   ]
  },
  {
   "cell_type": "markdown",
   "metadata": {},
   "source": [
    "read in data dictionary, convert to numpy array"
   ]
  },
  {
   "cell_type": "code",
   "execution_count": 73,
   "metadata": {},
   "outputs": [],
   "source": [
    "with open('../17-final-project/final_project_dataset.pkl', 'rb') as f:\n",
    "    data_dict = pickle.load(f)\n",
    "\n",
    "features = [\"salary\", \"bonus\"]\n",
    "\n",
    "data_dict.pop('TOTAL', 0)\n",
    "\n",
    "data = feature_format(data_dict, features)\n"
   ]
  },
  {
   "cell_type": "markdown",
   "metadata": {},
   "source": [
    "## ↓↓↓ Your Code Goes Here ↓↓↓"
   ]
  },
  {
   "cell_type": "code",
   "execution_count": 74,
   "metadata": {},
   "outputs": [
    {
     "data": {
      "image/png": "[encoded data removed]",
      "text/plain": [
       "<Figure size 432x288 with 1 Axes>"
      ]
     },
     "metadata": {
      "needs_background": "light"
     },
     "output_type": "display_data"
    }
   ],
   "source": [
    "for point in data:\n",
    "    salary = point[0]\n",
    "    bonus = point[1]\n",
    "    matplotlib.pyplot.scatter( salary, bonus )\n",
    "\n",
    "matplotlib.pyplot.xlabel(\"salary\")\n",
    "matplotlib.pyplot.ylabel(\"bonus\")\n",
    "matplotlib.pyplot.show()"
   ]
  }
 ],
 "metadata": {
  "kernelspec": {
   "display_name": "Python 3",
   "language": "python",
   "name": "python3"
  },
  "language_info": {
   "codemirror_mode": {
    "name": "ipython",
    "version": 3
   },
   "file_extension": ".py",
   "mimetype": "text/x-python",
   "name": "python",
   "nbconvert_exporter": "python",
   "pygments_lexer": "ipython3",
   "version": "3.8.12"
  }
 },
 "nbformat": 4,
 "nbformat_minor": 4
}
